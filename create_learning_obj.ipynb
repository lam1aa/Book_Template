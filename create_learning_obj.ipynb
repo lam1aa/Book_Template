{
 "cells": [
  {
   "cell_type": "markdown",
   "metadata": {},
   "source": [
    "# Learning Objectives Generator"
   ]
  },
  {
   "cell_type": "code",
   "execution_count": 12,
   "metadata": {},
   "outputs": [
    {
     "data": {
      "text/html": [
       "<p>Nach durcharbeiten der OER erkennen Sie die Technologie der  QUADRIGA OERS, können diese in groben Zügen wiedergeben und können bei der Arbeit mit der OER auftretende Fehler den jeweiligen Komponenten zuordnen.\n",
       "</p><ul><li><strong>Kompetenz:</strong> 1 Basiskompetenz</li><li><strong>Datenfluss:</strong> Grundlagen</li><li><strong>Bloom-Kategorie:</strong> 1 Remember</li></ul>"
      ],
      "text/plain": [
       "<IPython.core.display.HTML object>"
      ]
     },
     "metadata": {
      "scrapbook": {
       "mime_prefix": "",
       "name": "lo-global-1"
      }
     },
     "output_type": "display_data"
    },
    {
     "data": {
      "text/plain": [
       "'Nach durcharbeiten der OER erkennen Sie die Technologie der  QUADRIGA OERS, können diese in groben Zügen wiedergeben und können bei der Arbeit mit der OER auftretende Fehler den jeweiligen Komponenten zuordnen.\\n'"
      ]
     },
     "metadata": {
      "scrapbook": {
       "mime_prefix": "",
       "name": "lo-global-1-text"
      }
     },
     "output_type": "display_data"
    },
    {
     "name": "stdout",
     "output_type": "stream",
     "text": [
      "Created and glued learning objective: lo-global-1\n"
     ]
    },
    {
     "data": {
      "text/html": [
       "<p>Nach durcharbeiten der OER können Sie selbst Inhalte in einer QUADRIGA OER anpassen und diese erweitern.\n",
       "</p><ul><li><strong>Kompetenz:</strong> 1 Basiskompetenz</li><li><strong>Datenfluss:</strong> Grundlagen</li><li><strong>Bloom-Kategorie:</strong> 3 Apply</li></ul>"
      ],
      "text/plain": [
       "<IPython.core.display.HTML object>"
      ]
     },
     "metadata": {
      "scrapbook": {
       "mime_prefix": "",
       "name": "lo-global-2"
      }
     },
     "output_type": "display_data"
    },
    {
     "data": {
      "text/plain": [
       "'Nach durcharbeiten der OER können Sie selbst Inhalte in einer QUADRIGA OER anpassen und diese erweitern.\\n'"
      ]
     },
     "metadata": {
      "scrapbook": {
       "mime_prefix": "",
       "name": "lo-global-2-text"
      }
     },
     "output_type": "display_data"
    },
    {
     "name": "stdout",
     "output_type": "stream",
     "text": [
      "Created and glued learning objective: lo-global-2\n"
     ]
    },
    {
     "data": {
      "text/html": [
       "<p>{'de': 'Nach durcharbeiten der OER können Sie ausgehend von diesem OER-Template selbst vollkommen neue OERs im Stil der QUADRIGA OERs erstellen.\\n'}</p><ul><li><strong>Kompetenz:</strong> 1 Basiskompetenz</li><li><strong>Datenfluss:</strong> Grundlagen</li><li><strong>Bloom-Kategorie:</strong> 6 Create</li></ul>"
      ],
      "text/plain": [
       "<IPython.core.display.HTML object>"
      ]
     },
     "metadata": {
      "scrapbook": {
       "mime_prefix": "",
       "name": "lo-global-3"
      }
     },
     "output_type": "display_data"
    },
    {
     "data": {
      "text/plain": [
       "{'de': 'Nach durcharbeiten der OER können Sie ausgehend von diesem OER-Template selbst vollkommen neue OERs im Stil der QUADRIGA OERs erstellen.\\n'}"
      ]
     },
     "metadata": {
      "scrapbook": {
       "mime_prefix": "",
       "name": "lo-global-3-text"
      }
     },
     "output_type": "display_data"
    },
    {
     "name": "stdout",
     "output_type": "stream",
     "text": [
      "Created and glued learning objective: lo-global-3\n"
     ]
    },
    {
     "data": {
      "text/html": [
       "<p>test</p><ul><li><strong>Kompetenz:</strong> 1 Basiskompetenz</li><li><strong>Datenfluss:</strong> Grundlagen</li><li><strong>Bloom-Kategorie:</strong> 1 Remember</li></ul>"
      ],
      "text/plain": [
       "<IPython.core.display.HTML object>"
      ]
     },
     "metadata": {
      "scrapbook": {
       "mime_prefix": "",
       "name": "lo-ch1-1"
      }
     },
     "output_type": "display_data"
    },
    {
     "data": {
      "text/plain": [
       "'test'"
      ]
     },
     "metadata": {
      "scrapbook": {
       "mime_prefix": "",
       "name": "lo-ch1-1-text"
      }
     },
     "output_type": "display_data"
    },
    {
     "name": "stdout",
     "output_type": "stream",
     "text": [
      "Created and glued learning objective: lo-ch1-1\n"
     ]
    },
    {
     "data": {
      "text/html": [
       "<p>test</p><ul><li><strong>Kompetenz:</strong> 1 Basiskompetenz</li><li><strong>Datenfluss:</strong> Grundlagen</li><li><strong>Bloom-Kategorie:</strong> 1 Remember</li></ul>"
      ],
      "text/plain": [
       "<IPython.core.display.HTML object>"
      ]
     },
     "metadata": {
      "scrapbook": {
       "mime_prefix": "",
       "name": "lo-ch2-1"
      }
     },
     "output_type": "display_data"
    },
    {
     "data": {
      "text/plain": [
       "'test'"
      ]
     },
     "metadata": {
      "scrapbook": {
       "mime_prefix": "",
       "name": "lo-ch2-1-text"
      }
     },
     "output_type": "display_data"
    },
    {
     "name": "stdout",
     "output_type": "stream",
     "text": [
      "Created and glued learning objective: lo-ch2-1\n"
     ]
    },
    {
     "data": {
      "text/html": [
       "<p>test</p><ul><li><strong>Kompetenz:</strong> 1 Basiskompetenz</li><li><strong>Datenfluss:</strong> Grundlagen</li><li><strong>Bloom-Kategorie:</strong> 1 Remember</li></ul>"
      ],
      "text/plain": [
       "<IPython.core.display.HTML object>"
      ]
     },
     "metadata": {
      "scrapbook": {
       "mime_prefix": "",
       "name": "lo-ch3-1"
      }
     },
     "output_type": "display_data"
    },
    {
     "data": {
      "text/plain": [
       "'test'"
      ]
     },
     "metadata": {
      "scrapbook": {
       "mime_prefix": "",
       "name": "lo-ch3-1-text"
      }
     },
     "output_type": "display_data"
    },
    {
     "name": "stdout",
     "output_type": "stream",
     "text": [
      "Created and glued learning objective: lo-ch3-1\n"
     ]
    },
    {
     "data": {
      "text/html": [
       "<p>test</p><ul><li><strong>Kompetenz:</strong> 1 Basiskompetenz</li><li><strong>Datenfluss:</strong> Grundlagen</li><li><strong>Bloom-Kategorie:</strong> 1 Remember</li></ul>"
      ],
      "text/plain": [
       "<IPython.core.display.HTML object>"
      ]
     },
     "metadata": {
      "scrapbook": {
       "mime_prefix": "",
       "name": "lo-ch4-1"
      }
     },
     "output_type": "display_data"
    },
    {
     "data": {
      "text/plain": [
       "'test'"
      ]
     },
     "metadata": {
      "scrapbook": {
       "mime_prefix": "",
       "name": "lo-ch4-1-text"
      }
     },
     "output_type": "display_data"
    },
    {
     "name": "stdout",
     "output_type": "stream",
     "text": [
      "Created and glued learning objective: lo-ch4-1\n"
     ]
    },
    {
     "data": {
      "text/html": [
       "<p>test</p><ul><li><strong>Kompetenz:</strong> 1 Basiskompetenz</li><li><strong>Datenfluss:</strong> Grundlagen</li><li><strong>Bloom-Kategorie:</strong> 1 Remember</li></ul>"
      ],
      "text/plain": [
       "<IPython.core.display.HTML object>"
      ]
     },
     "metadata": {
      "scrapbook": {
       "mime_prefix": "",
       "name": "lo-ch5-1"
      }
     },
     "output_type": "display_data"
    },
    {
     "data": {
      "text/plain": [
       "'test'"
      ]
     },
     "metadata": {
      "scrapbook": {
       "mime_prefix": "",
       "name": "lo-ch5-1-text"
      }
     },
     "output_type": "display_data"
    },
    {
     "name": "stdout",
     "output_type": "stream",
     "text": [
      "Created and glued learning objective: lo-ch5-1\n"
     ]
    },
    {
     "data": {
      "text/html": [
       "<p>test</p><ul><li><strong>Kompetenz:</strong> 1 Basiskompetenz</li><li><strong>Datenfluss:</strong> Grundlagen</li><li><strong>Bloom-Kategorie:</strong> 1 Remember</li></ul>"
      ],
      "text/plain": [
       "<IPython.core.display.HTML object>"
      ]
     },
     "metadata": {
      "scrapbook": {
       "mime_prefix": "",
       "name": "lo-ch6-1"
      }
     },
     "output_type": "display_data"
    },
    {
     "data": {
      "text/plain": [
       "'test'"
      ]
     },
     "metadata": {
      "scrapbook": {
       "mime_prefix": "",
       "name": "lo-ch6-1-text"
      }
     },
     "output_type": "display_data"
    },
    {
     "name": "stdout",
     "output_type": "stream",
     "text": [
      "Created and glued learning objective: lo-ch6-1\n",
      "\n",
      "Example of glued HTML content for: Nach durcharbeiten der OER erkennen Sie die Technologie der  QUADRIGA OERS, können diese in groben Zügen wiedergeben und können bei der Arbeit mit der OER auftretende Fehler den jeweiligen Komponenten zuordnen.\n",
      "\n"
     ]
    },
    {
     "data": {
      "text/html": [
       "<div style='padding: 10px; border: 1px solid #ccc; border-radius: 5px;'><p>test</p><ul><li><strong>Kompetenz:</strong> 1 Basiskompetenz</li><li><strong>Datenfluss:</strong> Grundlagen</li><li><strong>Bloom-Kategorie:</strong> 1 Remember</li></ul></div>"
      ],
      "text/plain": [
       "<IPython.core.display.HTML object>"
      ]
     },
     "metadata": {},
     "output_type": "display_data"
    }
   ],
   "source": [
    "\"\"\"\n",
    "This notebook extracts learning objectives from metadata.yml and creates \n",
    "reusable admonitions using Jupyter Book's glue functionality with HTML display.\n",
    "\"\"\"\n",
    "import yaml\n",
    "from myst_nb import glue\n",
    "from IPython.display import HTML, display\n",
    "\n",
    "# Step 1: Load the metadata.yml file\n",
    "with open('metadata.yml', 'r', encoding='utf-8') as file:\n",
    "    metadata = yaml.safe_load(file)\n",
    "\n",
    "# Step 2: Extract all learning objectives\n",
    "all_learning_objectives = []\n",
    "\n",
    "# Global learning objectives\n",
    "if 'learning-objectives' in metadata:\n",
    "    for i, lo in enumerate(metadata['learning-objectives']):\n",
    "        # Add source information\n",
    "        lo_obj = {\n",
    "            'type': 'global',\n",
    "            'index': i + 1,\n",
    "            'learning_objective': lo.get('learning-objective', '')\n",
    "        }\n",
    "        \n",
    "        # Add other metadata only if they exist\n",
    "        if 'competency' in lo:\n",
    "            lo_obj['competency'] = lo['competency']\n",
    "        if 'data-flow' in lo:\n",
    "            lo_obj['data_flow'] = lo['data-flow']\n",
    "        if 'blooms-category' in lo:\n",
    "            lo_obj['blooms_category'] = lo['blooms-category']\n",
    "        \n",
    "        all_learning_objectives.append(lo_obj)\n",
    "\n",
    "# Chapter learning objectives\n",
    "if 'chapters' in metadata:\n",
    "    for ch_idx, chapter in enumerate(metadata['chapters']):\n",
    "        if 'learning-objectives' in chapter:\n",
    "            for lo_idx, lo in enumerate(chapter['learning-objectives']):\n",
    "                # Add source information\n",
    "                lo_obj = {\n",
    "                    'type': 'chapter',\n",
    "                    'chapter_index': ch_idx + 1,\n",
    "                    'chapter_title': chapter.get('title', f'Chapter {ch_idx + 1}'),\n",
    "                    'index': lo_idx + 1,\n",
    "                    'learning_objective': lo.get('learning-objective', '')\n",
    "                }\n",
    "                \n",
    "                # Add other metadata only if they exist\n",
    "                if 'competency' in lo:\n",
    "                    lo_obj['competency'] = lo['competency']\n",
    "                if 'data-flow' in lo:\n",
    "                    lo_obj['data_flow'] = lo['data-flow']\n",
    "                if 'blooms-category' in lo:\n",
    "                    lo_obj['blooms_category'] = lo['blooms-category']\n",
    "                \n",
    "                all_learning_objectives.append(lo_obj)\n",
    "\n",
    "# Step 3: Create admonitions and glue them\n",
    "for i, lo in enumerate(all_learning_objectives):\n",
    "    # Generate ID based on type\n",
    "    if lo['type'] == 'global':\n",
    "        lo_id = f\"lo-global-{lo['index']}\"\n",
    "    else:\n",
    "        lo_id = f\"lo-ch{lo['chapter_index']}-{lo['index']}\"\n",
    "    \n",
    "    # Create HTML content\n",
    "    html_content = f\"<p>{lo['learning_objective']}</p>\"\n",
    "    \n",
    "    # Add metadata fields only if they exist\n",
    "    metadata_items = []\n",
    "    if 'competency' in lo:\n",
    "        metadata_items.append(f\"<li><strong>Kompetenz:</strong> {lo['competency']}</li>\")\n",
    "    if 'data_flow' in lo:\n",
    "        metadata_items.append(f\"<li><strong>Datenfluss:</strong> {lo['data_flow']}</li>\")\n",
    "    if 'blooms_category' in lo:\n",
    "        metadata_items.append(f\"<li><strong>Bloom-Kategorie:</strong> {lo['blooms_category']}</li>\")\n",
    "    \n",
    "    # Add metadata list if there are any items\n",
    "    if metadata_items:\n",
    "        html_content += \"<ul>\" + \"\".join(metadata_items) + \"</ul>\"\n",
    "    \n",
    "    # Create HTML object\n",
    "    html_obj = HTML(html_content)\n",
    "    \n",
    "    # Glue both the HTML object and the plain text version\n",
    "    glue(lo_id, html_obj)\n",
    "    glue(f\"{lo_id}-text\", lo['learning_objective'])\n",
    "    \n",
    "    # Print a confirmation\n",
    "    print(f\"Created and glued learning objective: {lo_id}\")\n",
    "\n",
    "# Display an example for verification\n",
    "if all_learning_objectives:\n",
    "    example = all_learning_objectives[0]\n",
    "    print(\"\\nExample of glued HTML content for:\", example['learning_objective'])\n",
    "    display(HTML(f\"<div style='padding: 10px; border: 1px solid #ccc; border-radius: 5px;'>{html_content}</div>\"))"
   ]
  },
  {
   "cell_type": "markdown",
   "metadata": {},
   "source": [
    "## Example Usage\n",
    "`````\n",
    "````{admonition} Lernziel \n",
    ":class: lernziele\n",
    "\n",
    "```{glue:} lo-global-1\n",
    ":doc: create_lo_admonitions.ipynb\n",
    "```\n",
    "````\n",
    "`````\n"
   ]
  },
  {
   "cell_type": "markdown",
   "metadata": {},
   "source": []
  }
 ],
 "metadata": {
  "kernelspec": {
   "display_name": "venv",
   "language": "python",
   "name": "python3"
  },
  "language_info": {
   "codemirror_mode": {
    "name": "ipython",
    "version": 3
   },
   "file_extension": ".py",
   "mimetype": "text/x-python",
   "name": "python",
   "nbconvert_exporter": "python",
   "pygments_lexer": "ipython3",
   "version": "3.13.0"
  }
 },
 "nbformat": 4,
 "nbformat_minor": 2
}
